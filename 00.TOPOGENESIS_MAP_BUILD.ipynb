{
 "cells": [
  {
   "cell_type": "markdown",
   "metadata": {},
   "source": [
    "Topogenesis by Pirouz,Shervin "
   ]
  },
  {
   "cell_type": "markdown",
   "metadata": {},
   "source": [
    "env 불러오기"
   ]
  },
  {
   "cell_type": "code",
   "execution_count": 24,
   "metadata": {},
   "outputs": [],
   "source": [
    "import os\n",
    "import topogenesis as tg\n",
    "import trimesh as tm\n",
    "import numpy as np\n",
    "import pyvista as pv\n",
    "import panel as pn\n",
    "import pandas as pd \n",
    "\n",
    "from ladybug.sunpath import Sunpath #ladybug sunpath 호출\n",
    "from IPython.display import display, Image"
   ]
  },
  {
   "cell_type": "code",
   "execution_count": 25,
   "metadata": {},
   "outputs": [],
   "source": [
    "# tri_to_pv 함수 정의: 삼각형 메시(tri_mesh)를 PyVista 형식으로 변환합니다.\n",
    "def tri_to_pv(tri_mesh):\n",
    "    # tri_mesh.faces 배열에 각 face의 시작 부분에 3을 추가하여 새로운 배열을 만듭니다.\n",
    "    # 'constant' 모드로 패딩을 추가하여 각 face의 시작에 3을 삽입합니다.\n",
    "    faces = np.pad(tri_mesh.faces, ((0, 0), (1, 0)), 'constant', constant_values=3)\n",
    "    # PyVista의 PolyData 객체를 생성하여, tri_mesh의 정점(vertices)과 패딩된 faces 배열을 사용합니다.\n",
    "    pv_mesh = pv.PolyData(tri_mesh.vertices, faces)\n",
    "    \n",
    "    # 변환된 PyVista 메쉬 객체를 반환합니다.\n",
    "    return pv_mesh"
   ]
  },
  {
   "cell_type": "markdown",
   "metadata": {},
   "source": [
    "### 복셀화 \n",
    "imput OBJ를 topogenesis가 읽을 수 있도록 voxelization"
   ]
  },
  {
   "cell_type": "code",
   "execution_count": 26,
   "metadata": {},
   "outputs": [],
   "source": [
    "vs = 1000 # voxel size 값을 설정합니다. 각 복셀의 크기를 결정합니다.\n",
    "unit = [vs, vs, 3000]# 복셀 그리드의 각 방향 크기를 정의합니다. (세로 방향 크기 custom 지정)\n",
    "\n",
    "mesh = tm.load(os.path.relpath('obj/Building01.obj'))# 메쉬 파일을 불러옵니다. 'Building.obj' 파일을 상대 경로로 불러옵니다.\n",
    "base_lattice = tg.lattice(mesh.bounds, unit=unit, default_value=1, dtype=int)# 복셀 그리드를 초기화합니다. 메쉬 경계와 unit 크기를 사용합니다.\n",
    "interior_condition = mesh.contains(base_lattice.centroids) # 복셀 중심점을 기준으로 내부 조건을 확인합니다.\n",
    "interior_array = interior_condition.reshape(base_lattice.shape)# 내부 조건 배열을 3D 복셀 그리드 형태로 재구성합니다.\n",
    "interior_lattice = tg.to_lattice(interior_array, base_lattice.minbound, base_lattice.unit)# 내부 배열을 복셀 그리드로 변환합니다."
   ]
  },
  {
   "cell_type": "markdown",
   "metadata": {},
   "source": [
    "Save as original_lattice_interior_lattice.csv"
   ]
  },
  {
   "cell_type": "code",
   "execution_count": 27,
   "metadata": {},
   "outputs": [],
   "source": [
    "csv_path = os.path.relpath('original_lattice/interior_lattice.csv')# CSV 파일 경로를 설정합니다.\n",
    "directory = os.path.dirname(csv_path)# CSV 저장을 위한 디렉토리가 존재하는지 확인하고, 없으면 생성합니다.\n",
    "if not os.path.exists(directory):\n",
    "    os.makedirs(directory)\n",
    "\n",
    "interior_lattice.to_csv(csv_path)# 내부 복셀 그리드를 CSV 파일로 저장합니다."
   ]
  },
  {
   "cell_type": "markdown",
   "metadata": {},
   "source": [
    "voxelization 시각화 & save as png"
   ]
  },
  {
   "cell_type": "code",
   "execution_count": 28,
   "metadata": {},
   "outputs": [],
   "source": [
    "# # PyVista 플로터를 초기화합니다. Jupyter 노트북에서 실행할 수 있도록 설정합니다.\n",
    "# p = pv.Plotter(notebook=True)\n",
    "# # 메쉬를 시각화에 추가합니다. tri_to_pv 함수를 사용하여 변환된 메쉬를 사용합니다.\n",
    "# p.add_mesh(tri_to_pv(mesh), color='#54b36a', opacity=0.3)\n",
    "# # 내부 복셀 그리드를 시각화에 추가합니다.\n",
    "# interior_lattice.fast_vis(p)\n",
    "\n",
    "# # 스크린샷 파일 경로를 설정합니다.\n",
    "# png_path = os.path.relpath('screenshots/mesh.png')\n",
    "# # 스크린샷 저장을 위한 디렉토리가 존재하는지 확인하고, 없으면 생성합니다.\n",
    "# directory = os.path.dirname(png_path)\n",
    "# if not os.path.exists(directory):\n",
    "#     os.makedirs(directory)\n",
    "\n",
    "# # 시각화 플로팅\n",
    "# p.show(jupyter_backend=\"html\", return_viewer=True)"
   ]
  },
  {
   "cell_type": "code",
   "execution_count": 29,
   "metadata": {},
   "outputs": [
    {
     "name": "stdout",
     "output_type": "stream",
     "text": [
      "Screenshot saved to screenshots\\voxelization.png\n"
     ]
    }
   ],
   "source": [
    "# PyVista 플로터를 초기화합니다.\n",
    "p = pv.Plotter(off_screen=True)  # 오프 스크린 모드로 설정하여 시각화하지 않고 이미지 저장 가능\n",
    "\n",
    "# 메쉬를 시각화에 추가합니다. tri_to_pv 함수를 사용하여 변환된 메쉬를 사용합니다.\n",
    "p.add_mesh(tri_to_pv(mesh), color='#54b36a', opacity=0.3)\n",
    "# 내부 복셀 그리드를 시각화에 추가합니다.\n",
    "interior_lattice.fast_vis(p)\n",
    "# 스크린샷 파일 경로를 설정합니다.\n",
    "png_path = os.path.relpath('screenshots/voxelization.png')\n",
    "\n",
    "# 스크린샷 저장을 위한 디렉토리가 존재하는지 확인하고, 없으면 생성합니다.\n",
    "directory = os.path.dirname(png_path)\n",
    "if not os.path.exists(directory):\n",
    "    os.makedirs(directory)\n",
    "\n",
    "# 스크린샷 저장\n",
    "p.screenshot(png_path)\n",
    "#p.show()\n",
    "print(f\"Screenshot saved to {png_path}\")"
   ]
  },
  {
   "cell_type": "markdown",
   "metadata": {},
   "source": [
    "Custom 요소 import"
   ]
  },
  {
   "cell_type": "code",
   "execution_count": 30,
   "metadata": {},
   "outputs": [],
   "source": [
    "context_mesh = tm.load(os.path.relpath('obj\\context.obj'))  # 주변환경 obj 메시 불러오기\n",
    "street_pc = tg.cloud_from_csv(\"pts\\pts_str(11).CSV\")        # street point as csv (포인트를 csv로 저장) \n",
    "entrance_pc = tg.cloud_from_csv(\"pts\\ent_pts01.CSV\")       # entrance point as csv (라이노 포인트를 csv로 저장)\n",
    "envelope_lattice = tg.lattice_from_csv(csv_path)"
   ]
  },
  {
   "cell_type": "markdown",
   "metadata": {},
   "source": [
    "(Euclidean Distance)\n",
    "유클리드 거리는 두 점 사이의 직선 거리를 나타내며, 이를 계산하는 공식은 다음과 같습니다:\n",
    "\n",
    "![Euclidean Distance](image/스크린샷%202024-05-28%20143034.png) <!-- 이미지 경로를 여기에 넣으세요 -->\n",
    "\n",
    "1. 두 점의 각 좌표 성분의 차이를 계산합니다.\n",
    "2. 차이의 제곱을 구합니다.\n",
    "3. 제곱값들을 더합니다.\n",
    "4. 더한 값을 제곱근으로 계산합니다."
   ]
  },
  {
   "cell_type": "markdown",
   "metadata": {},
   "source": [
    "점들 사이의 거리 계산 (배열)"
   ]
  },
  {
   "cell_type": "code",
   "execution_count": 31,
   "metadata": {},
   "outputs": [],
   "source": [
    "# 모든 복셀의 중심 추출\n",
    "env_cens = envelope_lattice.centroids_threshold(-1)\n",
    "\n",
    "# 거리 행렬 초기화\n",
    "dist_ms = []\n",
    "# 각 복셀에 대해 ...\n",
    "for voxel_cen in env_cens:\n",
    "    # 거리 벡터 초기화 (각 복셀에 대해)\n",
    "    dist_v = []\n",
    "    # 각 street 점에 대해 ...\n",
    "    for street_point in street_pc:\n",
    "        # 차이 벡터를 계산\n",
    "        diff = voxel_cen - street_point\n",
    "        # 성분을 제곱\n",
    "        diff_p2 = diff**2\n",
    "        # 성분을 합산\n",
    "        diff_p2s = diff_p2.sum()\n",
    "        # 제곱근을 계산하여 거리 계산\n",
    "        dist = diff_p2s**0.5\n",
    "        # 거리 벡터에 거리 추가\n",
    "        dist_v.append(dist)\n",
    "    # 거리 벡터를 거리 행렬에 추가\n",
    "    dist_ms.append(dist_v)\n",
    "# 거리 행렬의 타입을 리스트에서 배열로 변경\n",
    "dist_ms = np.array(dist_ms)"
   ]
  },
  {
   "cell_type": "markdown",
   "metadata": {},
   "source": [
    "Top preference 최상층 선호도"
   ]
  },
  {
   "cell_type": "code",
   "execution_count": 32,
   "metadata": {},
   "outputs": [],
   "source": [
    "shape = envelope_lattice.shape\n",
    "top_preference = np.zeros(shape)\n",
    "\n",
    "# x, y 좌표에 대한 모든 z 좌표를 포함하는 리스트 생성\n",
    "z_coords_list = []\n",
    "\n",
    "for i in range(shape[0]):\n",
    "    for j in range(shape[1]):\n",
    "        z_coords_step = []\n",
    "        for k in range(shape[2]):\n",
    "            if envelope_lattice[i, j, k]:\n",
    "                z_coords_step.append(k)\n",
    "        if z_coords_step:\n",
    "            z_coords_list.append([i, j, z_coords_step])\n",
    "\n",
    "# z 좌표를 스케일링하여 [0.0, 1.0] 범위로 변환\n",
    "z_coords_scaled = []\n",
    "for coords in z_coords_list:\n",
    "    x, y, z_vals = coords\n",
    "    max_z = shape[2] - 1  # 전체 z 범위의 최대값\n",
    "    min_z = 0  # 전체 z 범위의 최소값\n",
    "    range_z = max_z - min_z\n",
    "    scaled_z_vals = [(z - min_z) / range_z for z in z_vals]  # 전체 높이 기준으로 스케일링\n",
    "    z_coords_scaled.append([x, y, scaled_z_vals])\n",
    "\n",
    "# 스케일링된 값을 적절한 격자에 배치\n",
    "for coords in z_coords_scaled:\n",
    "    x, y, scaled_z_vals = coords\n",
    "    original_coords = next(item for item in z_coords_list if item[0] == x and item[1] == y)\n",
    "    for idx, z in enumerate(original_coords[2]):\n",
    "        top_preference[x, y, z] = scaled_z_vals[idx]\n",
    "\n",
    "# 결과를 Lattice 객체로 변환하고 스케일링\n",
    "top_preference_lattice = tg.to_lattice(top_preference, envelope_lattice)\n",
    "top_preference_lattice *= envelope_lattice * 1.0\n",
    "top_preference_lattice /= top_preference_lattice.max()\n",
    "\n",
    "# CSV 파일로 저장\n",
    "top_csv_path = os.path.relpath('matrixs/top_pre.csv')\n",
    "top_preference_lattice.to_csv(top_csv_path)\n",
    "\n"
   ]
  },
  {
   "cell_type": "code",
   "execution_count": 33,
   "metadata": {},
   "outputs": [
    {
     "name": "stdout",
     "output_type": "stream",
     "text": [
      "Screenshot saved to screenshots/top_pref.png\n"
     ]
    }
   ],
   "source": [
    "import pyvista as pv\n",
    "import numpy as np\n",
    "\n",
    "p = pv.Plotter(off_screen=True)\n",
    "l = 250 * (top_preference_lattice - top_preference_lattice.min()) / top_preference_lattice.max()  # 재매핑\n",
    "\n",
    "grid = pv.ImageData(dimensions=l.shape, origin=l.minbound, spacing=l.unit)  # 공간 참조 생성\n",
    "grid.point_data[\"Values\"] = l.flatten(order=\"F\")  # 데이터 값을 포인트 데이터에 추가\n",
    "\n",
    "cloud = pv.PolyData(grid.points)  # 포인트 클라우드 생성\n",
    "cloud.point_data[\"Values\"] = grid.point_data[\"Values\"]\n",
    "\n",
    "opacity = np.where(cloud.point_data[\"Values\"] > 0, 1, 0)  # 투명도 배열 생성 (0값은 완전히 투명하게, 나머지는 불투명하게)\n",
    "\n",
    "p.add_mesh(cloud, scalars=\"Values\", render_points_as_spheres=True,  # 포인트 클라우드를 플로터에 추가\n",
    "           point_size=10, cmap=\"coolwarm\", opacity=opacity, show_scalar_bar=False)\n",
    "\n",
    "p.screenshot('screenshots/top_pref.png')\n",
    "print(\"Screenshot saved to screenshots/top_pref.png\")"
   ]
  },
  {
   "cell_type": "code",
   "execution_count": 34,
   "metadata": {},
   "outputs": [],
   "source": [
    "# # 플로터 초기화\n",
    "# p = pv.Plotter(off_screen=True)\n",
    "# l = top_preference_lattice \n",
    "# # 재매핑\n",
    "# l = 250 * (l - l.min()) / l.max()\n",
    "# # 공간 참조 생성\n",
    "# grid = pv.ImageData()\n",
    "\n",
    "# # 격자 차원 설정: 값을 주입하려는 근거로 모양(shape)을 설정\n",
    "# grid.dimensions = l.shape\n",
    "# # 데이터 세트의 좌하단 모서리\n",
    "# grid.origin = l.minbound\n",
    "# # 각 축을 따라 셀 크기 설정\n",
    "# grid.spacing = l.unit\n",
    "\n",
    "# # 데이터 값을 셀 데이터에 추가\n",
    "# grid.point_data[\"Distance\"] = l.flatten(order=\"F\")  # 격자 평탄화\n",
    "# # 주변 메쉬 추가\n",
    "# #p.add_mesh(tri_to_pv(context_mesh), opacity=0.1, style='wireframe')\n",
    "\n",
    "# # 포인트 클라우드의 빠른 시각화\n",
    "# street_pc.fast_notebook_vis(p)\n",
    "# # 볼륨 추가\n",
    "# opacity = np.array([0, 0.6, 0.6, 0.6, 0.6, 0.6, 0.6]) * 1\n",
    "# p.add_volume(grid, cmap=\"coolwarm\", opacity=opacity, shade=True, show_scalar_bar=False)\n",
    "\n",
    "# # 시각화 플로팅\n",
    "# p.show(jupyter_backend=\"html\", return_viewer=True)"
   ]
  },
  {
   "cell_type": "markdown",
   "metadata": {},
   "source": [
    "bottom preference 지하층 선호도"
   ]
  },
  {
   "cell_type": "code",
   "execution_count": 35,
   "metadata": {},
   "outputs": [],
   "source": [
    "import numpy as np\n",
    "import os\n",
    "import topogenesis as tg\n",
    "\n",
    "# 기본 설정\n",
    "shape = envelope_lattice.shape\n",
    "bottom_preference = np.zeros(shape)\n",
    "\n",
    "# x, y 좌표에 대한 모든 z 좌표를 포함하는 리스트 생성\n",
    "z_coords_list = []\n",
    "\n",
    "for i in range(shape[0]):\n",
    "    for j in range(shape[1]):\n",
    "        z_coords_step = []\n",
    "        for k in range(shape[2]):\n",
    "            if envelope_lattice[i, j, k]:\n",
    "                z_coords_step.append(k)\n",
    "        if z_coords_step:\n",
    "            z_coords_list.append([i, j, z_coords_step])\n",
    "\n",
    "# z 좌표를 스케일링하여 [1.0, 0.0] 범위로 변환\n",
    "z_coords_scaled = []\n",
    "for coords in z_coords_list:\n",
    "    x, y, z_vals = coords\n",
    "    max_z = shape[2] - 1  # 전체 z 범위의 최대값\n",
    "    min_z = 0  # 전체 z 범위의 최소값\n",
    "    range_z = max_z - min_z\n",
    "    scaled_z_vals = [1.0 - (z - min_z) / range_z for z in z_vals]  # 전체 높이 기준으로 스케일링\n",
    "    z_coords_scaled.append([x, y, scaled_z_vals])\n",
    "\n",
    "# 스케일링된 값을 적절한 격자에 배치\n",
    "for coords in z_coords_scaled:\n",
    "    x, y, scaled_z_vals = coords\n",
    "    original_coords = next(item for item in z_coords_list if item[0] == x and item[1] == y)\n",
    "    for idx, z in enumerate(original_coords[2]):\n",
    "        bottom_preference[x, y, z] = scaled_z_vals[idx]\n",
    "\n",
    "# 결과를 Lattice 객체로 변환하고 스케일링\n",
    "bottom_preference_lattice = tg.to_lattice(bottom_preference, envelope_lattice)\n",
    "bottom_preference_lattice *= envelope_lattice * 1.0\n",
    "bottom_preference_lattice /= bottom_preference_lattice.max()\n",
    "\n",
    "# CSV 파일로 저장\n",
    "bottom_csv_path = os.path.relpath('matrixs/ung_pre.csv')\n",
    "bottom_preference_lattice.to_csv(bottom_csv_path)"
   ]
  },
  {
   "cell_type": "code",
   "execution_count": 36,
   "metadata": {},
   "outputs": [
    {
     "name": "stdout",
     "output_type": "stream",
     "text": [
      "Screenshot saved to screenshots/ung_pref.png\n"
     ]
    }
   ],
   "source": [
    "import pyvista as pv\n",
    "import numpy as np\n",
    "\n",
    "p = pv.Plotter(off_screen=True)\n",
    "l = 250 * (bottom_preference_lattice - bottom_preference_lattice.min()) / bottom_preference_lattice.max()  # 재매핑\n",
    "\n",
    "grid = pv.ImageData(dimensions=l.shape, origin=l.minbound, spacing=l.unit)  # 공간 참조 생성\n",
    "grid.point_data[\"Values\"] = l.flatten(order=\"F\")  # 데이터 값을 포인트 데이터에 추가\n",
    "\n",
    "cloud = pv.PolyData(grid.points)  # 포인트 클라우드 생성\n",
    "cloud.point_data[\"Values\"] = grid.point_data[\"Values\"]\n",
    "\n",
    "opacity = np.where(cloud.point_data[\"Values\"] > 0, 1, 0)  # 투명도 배열 생성 (0값은 완전히 투명하게, 나머지는 불투명하게)\n",
    "\n",
    "p.add_mesh(cloud, scalars=\"Values\", render_points_as_spheres=True,  # 포인트 클라우드를 플로터에 추가\n",
    "           point_size=10, cmap=\"coolwarm\", opacity=opacity, show_scalar_bar=False)\n",
    "\n",
    "p.screenshot('screenshots/ung_pref.png')\n",
    "print(\"Screenshot saved to screenshots/ung_pref.png\")"
   ]
  },
  {
   "cell_type": "code",
   "execution_count": 37,
   "metadata": {},
   "outputs": [],
   "source": [
    "# # 플로터 초기화\n",
    "# p = pv.Plotter()\n",
    "# l = bottom_preference_lattice \n",
    "# # 재매핑\n",
    "# l = 250 * (l - l.min()) / l.max()\n",
    "# # 공간 참조 생성\n",
    "# grid = pv.ImageData()\n",
    "\n",
    "# # 격자 차원 설정: 값을 주입하려는 근거로 모양(shape)을 설정\n",
    "# grid.dimensions = l.shape\n",
    "# # 데이터 세트의 좌하단 모서리\n",
    "# grid.origin = l.minbound\n",
    "# # 각 축을 따라 셀 크기 설정\n",
    "# grid.spacing = l.unit\n",
    "\n",
    "# # 데이터 값을 셀 데이터에 추가\n",
    "# grid.point_data[\"Distance\"] = l.flatten(order=\"F\")  # 격자 평탄화\n",
    "# # 주변 메쉬 추가\n",
    "# #p.add_mesh(tri_to_pv(context_mesh), opacity=0.1, style='wireframe')\n",
    "\n",
    "# # 포인트 클라우드의 빠른 시각화\n",
    "# street_pc.fast_notebook_vis(p)\n",
    "# # 볼륨 추가\n",
    "# opacity = np.array([0, 0.6, 0.6, 0.6, 0.6, 0.6, 0.6]) * 1\n",
    "# p.add_volume(grid, cmap=\"coolwarm\", opacity=opacity, shade=True, show_scalar_bar=False)\n",
    "\n",
    "# # 시각화 플로팅\n",
    "# p.show(jupyter_backend=\"html\", return_viewer=True)"
   ]
  },
  {
   "cell_type": "markdown",
   "metadata": {},
   "source": [
    "배열, 재매핑, csv로 저장"
   ]
  },
  {
   "cell_type": "code",
   "execution_count": 38,
   "metadata": {},
   "outputs": [],
   "source": [
    "# 각 복셀이 가장 가까운 거리 점까지의 거리를 찾기\n",
    "min_dist = dist_ms.min(axis=1)\n",
    "max_distance = min_dist.max()  # 최대 거리 계산\n",
    "\n",
    "# 최소 거리 목록을 격자로 변환\n",
    "street_eu_distance_lattice = tg.to_lattice(min_dist.reshape(envelope_lattice.shape), envelope_lattice)\n",
    "\n",
    "# 외부 복셀의 값을 0으로 설정\n",
    "envelope_st_dist_lattice = street_eu_distance_lattice * envelope_lattice\n",
    "\n",
    "# 접근성 점수 계산: 거리가 길수록 높은 값 (반전된 점수 계산)\n",
    "str_acc_lattice = 1 - (envelope_st_dist_lattice / max_distance)\n",
    "str_acc_lattice *= envelope_lattice  # 외부 복셀의 값은 0으로 유지\n",
    "\n",
    "# 거리 접근 격자를 CSV 파일로 저장\n",
    "csv_path = os.path.relpath('matrixs/str_acc.csv')\n",
    "str_acc_lattice.to_csv(csv_path)\n"
   ]
  },
  {
   "cell_type": "markdown",
   "metadata": {},
   "source": [
    "street accessibility 시각화"
   ]
  },
  {
   "cell_type": "code",
   "execution_count": 39,
   "metadata": {},
   "outputs": [
    {
     "name": "stdout",
     "output_type": "stream",
     "text": [
      "Screenshot saved to screenshots/str_acc.png\n"
     ]
    }
   ],
   "source": [
    "import pyvista as pv\n",
    "import numpy as np\n",
    "\n",
    "p = pv.Plotter(off_screen=True)\n",
    "l = str_acc_lattice * envelope_lattice  # 격자 곱셈\n",
    "l = 250 * (l - l.min()) / l.max()  # 재매핑\n",
    "\n",
    "grid = pv.ImageData(dimensions=l.shape, origin=l.minbound, spacing=l.unit)  # 공간 참조 생성\n",
    "grid.point_data[\"Values\"] = l.flatten(order=\"F\")  # 데이터 값을 포인트 데이터에 추가\n",
    "\n",
    "cloud = pv.PolyData(grid.points)  # 포인트 클라우드 생성\n",
    "cloud.point_data[\"Values\"] = grid.point_data[\"Values\"]\n",
    "\n",
    "opacity = np.where(cloud.point_data[\"Values\"] > 0, 1, 0)  # 투명도 배열 생성 (0값은 완전히 투명하게, 나머지는 불투명하게)\n",
    "\n",
    "p.add_mesh(cloud, scalars=\"Values\", render_points_as_spheres=True,  # 포인트 클라우드를 플로터에 추가\n",
    "           point_size=10, cmap=\"coolwarm\", opacity=opacity, show_scalar_bar=False)\n",
    "\n",
    "#street_pc.fast_notebook_vis(p)  # 포인트 클라우드의 빠른 시각화 (필요한 경우)\n",
    "\n",
    "p.screenshot('screenshots/str_acc.png')\n",
    "print(\"Screenshot saved to screenshots/str_acc.png\")"
   ]
  },
  {
   "cell_type": "code",
   "execution_count": 40,
   "metadata": {},
   "outputs": [],
   "source": [
    "# 모든 복셀의 중심 추출\n",
    "env_cens = envelope_lattice.centroids_threshold(-1)\n",
    "\n",
    "# 거리 행렬 초기화\n",
    "dist_me = []\n",
    "# 각 복셀에 대해 ...\n",
    "for voxel_cen in env_cens:\n",
    "    # 거리 벡터 초기화 (각 복셀에 대해)\n",
    "    dist_v = []\n",
    "    # 각 street 점에 대해 ...\n",
    "    for entrance_point in entrance_pc:\n",
    "        # 차이 벡터를 계산\n",
    "        diff = voxel_cen - entrance_point\n",
    "        # 성분을 제곱\n",
    "        diff_p2 = diff**2\n",
    "        # 성분을 합산\n",
    "        diff_p2s = diff_p2.sum()\n",
    "        # 제곱근을 계산하여 거리 계산\n",
    "        dist = diff_p2s**0.5\n",
    "        # 거리 벡터에 거리 추가\n",
    "        dist_v.append(dist)\n",
    "    # 거리 벡터를 거리 행렬에 추가\n",
    "    dist_me.append(dist_v)\n",
    "# 거리 행렬의 타입을 리스트에서 배열로 변경\n",
    "dist_me = np.array(dist_me)"
   ]
  },
  {
   "cell_type": "markdown",
   "metadata": {},
   "source": [
    "ent accessibility 입구 근접 선호도"
   ]
  },
  {
   "cell_type": "code",
   "execution_count": 41,
   "metadata": {},
   "outputs": [],
   "source": [
    "import numpy as np\n",
    "import topogenesis as tg\n",
    "\n",
    "# 최소 거리에서 접근성 점수 계산\n",
    "min_dist = dist_me.min(axis=1)\n",
    "max_distance = min_dist.max()\n",
    "\n",
    "# 최소 거리 목록을 격자로 변환\n",
    "ent_eu_distance_lattice = tg.to_lattice(min_dist.reshape(envelope_lattice.shape), envelope_lattice)\n",
    "\n",
    "# 외부 복셀의 값을 0으로 설정\n",
    "envelope_ent_dist_lattice = ent_eu_distance_lattice * envelope_lattice\n",
    "\n",
    "ent_acc_lattice = (envelope_ent_dist_lattice / max_distance)\n",
    "ent_acc_lattice *= envelope_lattice  # 외부 복셀의 값은 0으로 유지\n",
    "ent_acc_lattice = 1 - ent_acc_lattice\n",
    "\n",
    "# 거리 접근 격자를 CSV 파일로 저장\n",
    "csv_path = os.path.relpath('matrixs/ent_acc.csv')\n",
    "ent_acc_lattice.to_csv(csv_path)\n"
   ]
  },
  {
   "cell_type": "code",
   "execution_count": 42,
   "metadata": {},
   "outputs": [
    {
     "name": "stdout",
     "output_type": "stream",
     "text": [
      "Screenshot saved to screenshots/ent_acc.png\n"
     ]
    }
   ],
   "source": [
    "import pyvista as pv\n",
    "import numpy as np\n",
    "\n",
    "p = pv.Plotter(off_screen=True)\n",
    "l = ent_acc_lattice * envelope_lattice  # 격자 곱셈\n",
    "l = 250 * (l - l.min()) / l.max()  # 재매핑\n",
    "\n",
    "grid = pv.ImageData(dimensions=l.shape, origin=l.minbound, spacing=l.unit)  # 공간 참조 생성\n",
    "grid.point_data[\"Values\"] = l.flatten(order=\"F\")  # 데이터 값을 포인트 데이터에 추가\n",
    "\n",
    "cloud = pv.PolyData(grid.points)  # 포인트 클라우드 생성\n",
    "cloud.point_data[\"Values\"] = grid.point_data[\"Values\"]\n",
    "\n",
    "opacity = np.where(cloud.point_data[\"Values\"] > 0, 1, 0)  # 투명도 배열 생성 (0값은 완전히 투명하게, 나머지는 불투명하게)\n",
    "\n",
    "p.add_mesh(cloud, scalars=\"Values\", render_points_as_spheres=True,  # 포인트 클라우드를 플로터에 추가\n",
    "           point_size=10, cmap=\"coolwarm\", opacity=opacity, show_scalar_bar=False)\n",
    "\n",
    "entrance_pc.fast_notebook_vis(p)\n",
    "\n",
    "p.screenshot('screenshots/ent_acc.png')\n",
    "print(\"Screenshot saved to screenshots/ent_acc.png\")"
   ]
  },
  {
   "cell_type": "markdown",
   "metadata": {},
   "source": [
    "### Ladybug Sun vector "
   ]
  },
  {
   "cell_type": "code",
   "execution_count": 43,
   "metadata": {},
   "outputs": [
    {
     "name": "stdout",
     "output_type": "stream",
     "text": [
      "광선을 쏠 복셀의 수 : (28495, 3)\n",
      "각 복셀 당 광선 수 : (18, 3)\n",
      "쏠 광선의 수 : (512910, 3)\n"
     ]
    }
   ],
   "source": [
    "sp = Sunpath(longitude=37.541, latitude=37.5665)  # 태양궤도 초기화 (setting location variable) 한국 지정\n",
    "\n",
    "hoys = []                                         # 일년 동안 각 태양 벡터에 대한 시간 목록 정의\n",
    "sun_vectors = []\n",
    "day_multiples = 30\n",
    "\n",
    "for d in range(65):                              # 일년 중 각 날짜에 대해 ... reduce this for shorter period\n",
    "    if d % day_multiples == 0:                    # 만약 배수 중 하나라면\n",
    "        for h in range(11, 17):                   # 오전 10시부터 오후 4시까지의 시간 범위 설정\n",
    "\n",
    "            hoy = d * 24 + h                      # hoy (올해의 시간) 계산\n",
    "            sun = sp.calculate_sun_from_hoy(hoy)  # 태양 객체 계산\n",
    "            sun_vector = sun.sun_vector.to_array()# 태양 벡터 추출 (태양 광선이 향하는 방향)\n",
    "\n",
    "            if sun_vector[2] < 0.0:               # 태양 벡터의 Z 성분이 양수이면, 태양은 수평선 아래에 있습니다.\n",
    "                hoys.append(hoy)\n",
    "                sun_vectors.append(sun_vector)\n",
    "\n",
    "sun_vectors = np.array(sun_vectors)\n",
    "\n",
    "Rz = tm.transformations.rotation_matrix(np.radians(36.324), [0, 0, 1]) # 회전 행렬 계산\n",
    "\n",
    "sun_vectors = tm.transform_points(sun_vectors, Rz)                     # 사이트 회전과 일치하도록 태양 벡터 회전\n",
    "\n",
    "sun_dirs = -np.array(sun_vectors)  # 태양 벡터에서 태양 방향을 구성하기 위해 numpy 배열로 변환\n",
    "\n",
    "vox_cens = envelope_lattice.centroids  # 복셀의 중심점 추출\n",
    "# 모든 복셀에서 모든 태양 방향으로 쏘아야 하므로, 이를 위해 복셀 수만큼 태양 방향을 반복하여 ray_dir(모든 광선 방향의 목록)을 구성\n",
    "ray_dir = []\n",
    "ray_src = []\n",
    "for v_cen in vox_cens:\n",
    "    for s_dir in sun_dirs:\n",
    "        ray_dir.append(s_dir)\n",
    "        ray_src.append(v_cen)\n",
    "# 방향과 출처 목록을 numpy 배열로 변환\n",
    "ray_dir = np.array(ray_dir)\n",
    "ray_src = np.array(ray_src)\n",
    "\n",
    "print(\"광선을 쏠 복셀의 수 :\", vox_cens.shape)\n",
    "print(\"각 복셀 당 광선 수 :\", sun_dirs.shape)\n",
    "print(\"쏠 광선의 수 :\", ray_src.shape)\n",
    "\n",
    "def compute_intersections_in_chunks(context_mesh, ray_src, ray_dir, chunk_size=1000):\n",
    "    total_rays = ray_src.shape[0]\n",
    "    tri_ids = []\n",
    "    ray_ids = []\n",
    "\n",
    "    for i in range(0, total_rays, chunk_size):\n",
    "        start_index = i\n",
    "        end_index = min(i + chunk_size, total_rays)\n",
    "\n",
    "        chunk_tri_id, chunk_ray_id = context_mesh.ray.intersects_id(\n",
    "            ray_origins=ray_src[start_index:end_index],\n",
    "            ray_directions=ray_dir[start_index:end_index],\n",
    "            multiple_hits=False\n",
    "        )\n",
    "\n",
    "        tri_ids.extend(chunk_tri_id)\n",
    "        ray_ids.extend(chunk_ray_id + start_index)  # Adjust ray_ids to keep the correct global index\n",
    "\n",
    "    return np.array(tri_ids), np.array(ray_ids)\n",
    "\n",
    "    # 컨텍스트 메시와 광선의 교차점 계산\n",
    "tri_id, ray_id = compute_intersections_in_chunks(context_mesh, ray_src, ray_dir, chunk_size=100)\n",
    "\n",
    "hits = [0] * len(ray_dir)                    # 광선 방향의 길이만큼 0으로 초기화된 명중 여부 목록 생성\n",
    "\n",
    "for id in ray_id:                            # 교차점이 있는 광선을 1로 표시\n",
    "    hits[id] = 1\n",
    "\n",
    "sun_count = len(sun_dirs)                    # 태양 광선 개수와 복셀 개수 계산\n",
    "vox_count = len(vox_cens)\n",
    "\n",
    "vox_sun_acc = []                             # 태양 접근성 값을 저장할 목록 초기화\n",
    "\n",
    "for v_id in range(vox_count):                # 각 복셀에 대해 반복\n",
    "    int_count = 0                            # 교차점 개수를 저장할 변수 초기화\n",
    "\n",
    "    for s_id in range(sun_count):            # 태양 광선에 대해 반복\n",
    "        r_id = v_id * sun_count + s_id       # 복셀 ID와 태양 ID로부터 광선 ID를 계산\n",
    "\n",
    "        int_count += hits[r_id]              # 교차점이 있는 광선의 개수를 합산\n",
    "\n",
    "    sun_access = 1.0 - int_count / sun_count # 교차점이 없는 광선의 비율 계산 (태양을 볼 수 있는 정도)\n",
    "    vox_sun_acc.append(sun_access)           # 비율을 목록에 추가\n",
    "\n",
    "hits = np.array(hits)                        # 명중 여부 목록을 넘파이 배열로 변환\n",
    "vox_sun_acc = np.array(vox_sun_acc)          # 복셀별 태양 접근성 값을 넘파이 배열로 변환\n",
    "\n",
    "env_all_vox = envelope_lattice.flatten();   # 모든 복셀의 조건을 가져옵니다: 그들이 외피 안에 있는지 여부\n",
    "all_vox_sun_acc = []                        # 모든 복셀의 태양 접근성 값을 저장할 목록 초기화ㅁ\n",
    "v_id = 0                                    # v_id: 내부 복셀 목록에서의 복셀 ID\n",
    "\n",
    "for vox_in in env_all_vox:                  # 모든 복셀에 대해, 각 복셀의 내부 여부를 \"vox_in\"에 배치\n",
    "    if vox_in == True:                      # 복셀이 외부에 있었으면 ...\n",
    "        all_vox_sun_acc.append(vox_sun_acc[v_id])   # 태양 접근성 값을 읽고, 모든 복셀의 태양 접근성 목록에 추가\n",
    "        v_id += 1                           # 다음 번에 다음 복셀을 읽을 때 복셀 ID에 1을 더합니다.\n",
    "    else:                                   # 복셀이 내부에 있지 않으면 ...\n",
    "        all_vox_sun_acc.append(0.0)         # 태양 접근성 값으로 0.0을 추가\n",
    "\n",
    "sunacc_array = np.array(all_vox_sun_acc)    # 배열로 변환\n",
    "sunacc_array = sunacc_array.reshape(envelope_lattice.shape)  # 격자 모양으로 변경\n",
    "sunacc_lattice = tg.to_lattice(sunacc_array, envelope_lattice) # 격자로 변환\n",
    "\n",
    "print(sunacc_lattice.shape)\n",
    "\n",
    "# csv_path_sun = os.path.relpath('/content/drive/MyDrive/topotry2/Data/sun_acc.csv') # 태양 access lattice 저장\n",
    "# sunacc_lattice.to_csv(csv_path_sun)\n",
    "threshold = 1\n",
    "filtered_array = np.where(sunacc_array <= threshold, sunacc_array, 0)\n",
    "filtered_lattice = tg.to_lattice(filtered_array, envelope_lattice)\n",
    "csv_path_filtered = os.path.relpath('matrixs/sun_acc.csv')\n",
    "filtered_lattice.to_csv(csv_path_filtered)\n",
    "\n",
    "l = filtered_lattice"
   ]
  },
  {
   "cell_type": "code",
   "execution_count": null,
   "metadata": {},
   "outputs": [
    {
     "name": "stdout",
     "output_type": "stream",
     "text": [
      "Screenshot saved to screenshots/sun_acc.png\n"
     ]
    }
   ],
   "source": [
    "import pyvista as pv\n",
    "import numpy as np\n",
    "\n",
    "p = pv.Plotter(off_screen=True)\n",
    "l = 250 * (filtered_lattice - filtered_lattice.min()) / filtered_lattice.max()  # 재매핑\n",
    "\n",
    "grid = pv.ImageData(dimensions=l.shape, origin=l.minbound, spacing=l.unit)  # 공간 참조 생성\n",
    "grid.point_data[\"Values\"] = l.flatten(order=\"F\")  # 데이터 값을 포인트 데이터에 추가\n",
    "\n",
    "cloud = pv.PolyData(grid.points)  # 포인트 클라우드 생성\n",
    "cloud.point_data[\"Values\"] = grid.point_data[\"Values\"]\n",
    "\n",
    "opacity = np.where(cloud.point_data[\"Values\"] > 0, 1, 0)  # 투명도 배열 생성 (0값은 완전히 투명하게, 나머지는 불투명하게)\n",
    "\n",
    "p.add_mesh(cloud, scalars=\"Values\", render_points_as_spheres=True,  # 포인트 클라우드를 플로터에 추가\n",
    "           point_size=10, cmap=\"coolwarm\", opacity=opacity, show_scalar_bar=False)\n",
    "\n",
    "p.screenshot('screenshots/sun_acc.png')\n",
    "print(\"Screenshot saved to screenshots/sun_acc.png\")\n",
    "#p.show()"
   ]
  },
  {
   "cell_type": "code",
   "execution_count": null,
   "metadata": {},
   "outputs": [],
   "source": [
    "import numpy as np\n",
    "import os\n",
    "import topogenesis as tg\n",
    "from scipy import ndimage\n",
    "\n",
    "# 기본 설정\n",
    "shape = envelope_lattice.shape\n",
    "\n",
    "# 외장재에 가까운 정도를 계산\n",
    "s_sum = tg.create_stencil(\"von_neumann\", 1, 1)\n",
    "s_sum.set_index([0, 0, 0], 0)\n",
    "s_sum.set_index([0, 0, 1], 0)\n",
    "s_sum.set_index([0, -1, 0], 0)\n",
    "s_sum.set_index([0, 1, 0], 0)\n",
    "s_sum.set_index([-1, 0, 0], 0)\n",
    "s_sum.function = np.sum\n",
    "\n",
    "neighbour_sum = envelope_lattice.apply_stencil(s_sum, border_condition='pad_outside', padding_value=0)\n",
    "facade_condition = (neighbour_sum == 0).astype(int)\n",
    "\n",
    "# 외장재와의 거리를 계산\n",
    "distance_from_facade = ndimage.distance_transform_edt(1 - facade_condition)\n",
    "distance_from_facade *= envelope_lattice\n",
    "\n",
    "# 정규화 및 가중치 계산\n",
    "max_distance = np.max(distance_from_facade)\n",
    "normalized_distance = distance_from_facade / max_distance if max_distance != 0 else distance_from_facade\n",
    "inverse_facade_closeness = normalized_distance\n",
    "\n",
    "# 격자로 변환 및 CSV 파일로 저장\n",
    "inverse_facade_closeness_lattice = tg.to_lattice(inverse_facade_closeness, envelope_lattice)\n",
    "csv_path = os.path.relpath('matrixs/dist_facade.csv')\n",
    "inverse_facade_closeness_lattice.to_csv(csv_path)"
   ]
  },
  {
   "cell_type": "code",
   "execution_count": null,
   "metadata": {},
   "outputs": [
    {
     "name": "stdout",
     "output_type": "stream",
     "text": [
      "Screenshot saved to screenshots/dist_facade.png\n"
     ]
    }
   ],
   "source": [
    "import pyvista as pv\n",
    "import numpy as np\n",
    "\n",
    "p = pv.Plotter(off_screen=True)\n",
    "l = inverse_facade_closeness_lattice * envelope_lattice  # 격자 곱셈\n",
    "l = 250 * (l - l.min()) / l.max()  # 재매핑\n",
    "\n",
    "grid = pv.ImageData(dimensions=l.shape, origin=l.minbound, spacing=l.unit)  # 공간 참조 생성\n",
    "grid.point_data[\"Values\"] = l.flatten(order=\"F\")  # 데이터 값을 포인트 데이터에 추가\n",
    "\n",
    "cloud = pv.PolyData(grid.points)  # 포인트 클라우드 생성\n",
    "cloud.point_data[\"Values\"] = grid.point_data[\"Values\"]\n",
    "\n",
    "opacity = np.where(cloud.point_data[\"Values\"] > 0, 1, 0)  # 투명도 배열 생성 (0값은 완전히 투명하게, 나머지는 불투명하게)\n",
    "\n",
    "p.add_mesh(cloud, scalars=\"Values\", render_points_as_spheres=True,  # 포인트 클라우드를 플로터에 추가\n",
    "           point_size=10, cmap=\"coolwarm\", opacity=opacity, show_scalar_bar=False)\n",
    "\n",
    "entrance_pc.fast_notebook_vis(p)\n",
    "\n",
    "p.screenshot('screenshots/dist_facade.png')\n",
    "print(\"Screenshot saved to screenshots/dist_facade.png\")"
   ]
  }
 ],
 "metadata": {
  "kernelspec": {
   "display_name": "Python 3",
   "language": "python",
   "name": "python3"
  },
  "language_info": {
   "codemirror_mode": {
    "name": "ipython",
    "version": 3
   },
   "file_extension": ".py",
   "mimetype": "text/x-python",
   "name": "python",
   "nbconvert_exporter": "python",
   "pygments_lexer": "ipython3",
   "version": "3.11.1"
  }
 },
 "nbformat": 4,
 "nbformat_minor": 2
}
